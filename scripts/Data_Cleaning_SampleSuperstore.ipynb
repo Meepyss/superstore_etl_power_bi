{
  "nbformat": 4,
  "nbformat_minor": 0,
  "metadata": {
    "colab": {
      "provenance": [],
      "authorship_tag": "ABX9TyPc6dBolWSrMcOzePcqPxjU",
      "include_colab_link": true
    },
    "kernelspec": {
      "name": "python3",
      "display_name": "Python 3"
    },
    "language_info": {
      "name": "python"
    }
  },
  "cells": [
    {
      "cell_type": "markdown",
      "metadata": {
        "id": "view-in-github",
        "colab_type": "text"
      },
      "source": [
        "<a href=\"https://colab.research.google.com/github/Meepyss/superstore_etl_power_bi/blob/main/Data_Cleaning_SampleSuperstore.ipynb\" target=\"_parent\"><img src=\"https://colab.research.google.com/assets/colab-badge.svg\" alt=\"Open In Colab\"/></a>"
      ]
    },
    {
      "cell_type": "code",
      "execution_count": null,
      "metadata": {
        "id": "MJA5O3lHOZyf"
      },
      "outputs": [],
      "source": [
        "!pip install kaggle"
      ]
    },
    {
      "cell_type": "code",
      "source": [
        "from google.colab import files\n",
        "files.upload()  # selecione o kaggle.json baixado\n"
      ],
      "metadata": {
        "id": "SQSJtfgiPZa0"
      },
      "execution_count": null,
      "outputs": []
    },
    {
      "cell_type": "code",
      "source": [
        "!mkdir -p ~/.kaggle\n",
        "!cp kaggle.json ~/.kaggle/\n",
        "!chmod 600 ~/.kaggle/kaggle.json\n"
      ],
      "metadata": {
        "id": "abD2gvDxPuqg"
      },
      "execution_count": 58,
      "outputs": []
    },
    {
      "cell_type": "code",
      "source": [
        "!pip install kaggle pandas numpy matplotlib\n"
      ],
      "metadata": {
        "id": "t41UutkMP3Zw"
      },
      "execution_count": null,
      "outputs": []
    },
    {
      "cell_type": "code",
      "source": [
        "!kaggle datasets download -d vivek468/superstore-dataset-final --unzip\n"
      ],
      "metadata": {
        "colab": {
          "base_uri": "https://localhost:8080/"
        },
        "id": "crXJ8IGAP6FZ",
        "outputId": "8893a23f-4d8a-4043-809a-fe67c20904df"
      },
      "execution_count": 60,
      "outputs": [
        {
          "output_type": "stream",
          "name": "stdout",
          "text": [
            "Dataset URL: https://www.kaggle.com/datasets/vivek468/superstore-dataset-final\n",
            "License(s): other\n"
          ]
        }
      ]
    },
    {
      "cell_type": "code",
      "source": [
        "!ls -lh\n"
      ],
      "metadata": {
        "colab": {
          "base_uri": "https://localhost:8080/"
        },
        "id": "IbTtNEKjP8gh",
        "outputId": "3fb4253d-9310-4a30-e2e4-aaea69b654e4"
      },
      "execution_count": 61,
      "outputs": [
        {
          "output_type": "stream",
          "name": "stdout",
          "text": [
            "total 3.0M\n",
            "-rw-r--r-- 1 root root  55K Apr 22 00:20  dim_cliente.csv\n",
            "-rw-r--r-- 1 root root  15K Apr 22 00:20  dim_data.csv\n",
            "-rw-r--r-- 1 root root  89K Apr 22 00:20  dim_produto.csv\n",
            "-rw-r--r-- 1 root root   77 Apr 22 00:20  dim_shipmode.csv\n",
            "-rw-r--r-- 1 root root 138K Apr 22 00:20  fact_vendas.csv\n",
            "-rw-r--r-- 1 root root   63 Apr 22 00:22 'kaggle (1).json'\n",
            "-rw-r--r-- 1 root root   63 Apr 22 00:06  kaggle.json\n",
            "drwxr-xr-x 1 root root 4.0K Apr 17 13:36  sample_data\n",
            "-rw-r--r-- 1 root root 2.2M Apr 22 00:22 'Sample - Superstore.csv'\n",
            "-rw-r--r-- 1 root root 417K Apr 22 00:20  superstore_cleaned.csv\n"
          ]
        }
      ]
    },
    {
      "cell_type": "code",
      "source": [
        "import pandas as pd\n",
        "\n",
        "def load_data(filepath=\"Sample - Superstore.csv\", encoding=\"ISO-8859-1\"):\n",
        "    return pd.read_csv(filepath, encoding=encoding)"
      ],
      "metadata": {
        "id": "u5FjtfGgP-vp"
      },
      "execution_count": 62,
      "outputs": []
    },
    {
      "cell_type": "code",
      "source": [
        "print(df.shape)      # ex.: (9994, 21)\n",
        "print(df.info())     # tipos e nulos\n",
        "print(df.head())     # primeiras linhas\n"
      ],
      "metadata": {
        "colab": {
          "base_uri": "https://localhost:8080/"
        },
        "id": "sfmI61RIQECV",
        "outputId": "ec36739e-0d7d-4416-bb49-3d077e8ae025"
      },
      "execution_count": 63,
      "outputs": [
        {
          "output_type": "stream",
          "name": "stdout",
          "text": [
            "(1686, 27)\n",
            "<class 'pandas.core.frame.DataFrame'>\n",
            "Index: 1686 entries, 3 to 9983\n",
            "Data columns (total 27 columns):\n",
            " #   Column         Non-Null Count  Dtype         \n",
            "---  ------         --------------  -----         \n",
            " 0   Row ID         1686 non-null   int64         \n",
            " 1   Order ID       1686 non-null   object        \n",
            " 2   Order Date     1686 non-null   datetime64[ns]\n",
            " 3   Ship Date      1686 non-null   datetime64[ns]\n",
            " 4   ShipMode       1686 non-null   object        \n",
            " 5   Customer ID    1686 non-null   object        \n",
            " 6   Customer Name  1686 non-null   object        \n",
            " 7   Segment        1686 non-null   object        \n",
            " 8   Country        1686 non-null   object        \n",
            " 9   City           1686 non-null   object        \n",
            " 10  State          1686 non-null   object        \n",
            " 11  Postal Code    1686 non-null   int64         \n",
            " 12  Region         1686 non-null   object        \n",
            " 13  Product ID     1686 non-null   object        \n",
            " 14  Category       1686 non-null   object        \n",
            " 15  Sub-Category   1686 non-null   object        \n",
            " 16  Product Name   1686 non-null   object        \n",
            " 17  Sales          1686 non-null   float64       \n",
            " 18  Quantity       1686 non-null   int64         \n",
            " 19  Discount       1686 non-null   float64       \n",
            " 20  Profit         1686 non-null   float64       \n",
            " 21  Year           1686 non-null   int32         \n",
            " 22  Month          1686 non-null   int32         \n",
            " 23  Quarter        1686 non-null   int32         \n",
            " 24  DayOfWeek      1686 non-null   int32         \n",
            " 25  AvgOrderValue  1686 non-null   float64       \n",
            " 26  DeliveryDays   1686 non-null   int64         \n",
            "dtypes: datetime64[ns](2), float64(4), int32(4), int64(4), object(13)\n",
            "memory usage: 342.5+ KB\n",
            "None\n",
            "    Row ID        Order ID Order Date  Ship Date        ShipMode Customer ID  \\\n",
            "3        4  US-2015-108966 2015-10-11 2015-10-18  Standard Class    SO-20335   \n",
            "4        5  US-2015-108966 2015-10-11 2015-10-18  Standard Class    SO-20335   \n",
            "14      15  US-2015-118983 2015-11-22 2015-11-26  Standard Class    HP-14815   \n",
            "15      16  US-2015-118983 2015-11-22 2015-11-26  Standard Class    HP-14815   \n",
            "23      24  US-2017-156909 2017-07-16 2017-07-18    Second Class    SF-20065   \n",
            "\n",
            "      Customer Name      Segment        Country             City  ...  \\\n",
            "3    Sean O'Donnell     Consumer  United States  Fort Lauderdale  ...   \n",
            "4    Sean O'Donnell     Consumer  United States  Fort Lauderdale  ...   \n",
            "14    Harold Pawlan  Home Office  United States       Fort Worth  ...   \n",
            "15    Harold Pawlan  Home Office  United States       Fort Worth  ...   \n",
            "23  Sandra Flanagan     Consumer  United States     Philadelphia  ...   \n",
            "\n",
            "       Sales  Quantity Discount    Profit  Year Month Quarter  DayOfWeek  \\\n",
            "3   957.5775         5     0.45 -383.0310  2015    10       4          6   \n",
            "4    22.3680         2     0.20    2.5164  2015    10       4          6   \n",
            "14   68.8100         5     0.80 -123.8580  2015    11       4          6   \n",
            "15    2.5440         3     0.80   -3.8160  2015    11       4          6   \n",
            "23   71.3720         2     0.30   -1.0196  2017     7       3          6   \n",
            "\n",
            "    AvgOrderValue  DeliveryDays  \n",
            "3        191.5155             7  \n",
            "4         11.1840             7  \n",
            "14        13.7620             4  \n",
            "15         0.8480             4  \n",
            "23        35.6860             2  \n",
            "\n",
            "[5 rows x 27 columns]\n"
          ]
        }
      ]
    },
    {
      "cell_type": "code",
      "source": [
        "def clean_data(df):\n",
        "    \"\"\"\n",
        "    Remove pedidos cancelados, converte datas, adiciona colunas de tempo,\n",
        "    drop duplicates e cria métricas de negócio.\n",
        "    \"\"\"\n",
        "    # Remover pedidos cancelados (Order ID começando com 'C')\n",
        "    df = df[~df['Order ID'].str.startswith('C')]\n",
        "\n",
        "    # Converter colunas de data\n",
        "    df['Order Date'] = pd.to_datetime(df['Order Date'], dayfirst=False)\n",
        "    df['Ship Date']  = pd.to_datetime(df['Ship Date'],  dayfirst=False)\n",
        "\n",
        "    # Extrair atributos temporais\n",
        "    df = df.assign(\n",
        "        Year        = df['Order Date'].dt.year,\n",
        "        Month       = df['Order Date'].dt.month,\n",
        "        Quarter     = df['Order Date'].dt.quarter,\n",
        "        DayOfWeek   = df['Order Date'].dt.dayofweek\n",
        "    )\n",
        "\n",
        "    # Remover duplicatas\n",
        "    df = df.drop_duplicates(subset=['Row ID'], keep='first')\n",
        "\n",
        "    # Criar métricas de negócio\n",
        "    df['AvgOrderValue'] = df['Sales'] / df['Quantity']\n",
        "    df['DeliveryDays']  = (df['Ship Date'] - df['Order Date']).dt.days\n",
        "\n",
        "    # Ajustar nome de coluna para dimensão\n",
        "    df = df.rename(columns={'Ship Mode':'ShipMode'})\n",
        "    return df\n"
      ],
      "metadata": {
        "id": "_kboo3jgRW4P"
      },
      "execution_count": 64,
      "outputs": []
    },
    {
      "cell_type": "markdown",
      "source": [
        "Para evitar que retornos ou cancelamentos distorçam métricas de vendas, excluímos todas as linhas cujo Order ID comece com “C” (indicativo de cancelamento):"
      ],
      "metadata": {
        "id": "I4l2UZkBR7b8"
      }
    },
    {
      "cell_type": "markdown",
      "source": [
        "O Series.dt expõe propriedades temporais como .year, .month, .quarter e .dayofweek\n",
        "Pandas\n",
        ".\n",
        "O método DataFrame.assign() permite acrescentar múltiplas colunas de uma só vez"
      ],
      "metadata": {
        "id": "szdZ5a7iSM52"
      }
    },
    {
      "cell_type": "code",
      "source": [
        "df.isnull().sum()\n"
      ],
      "metadata": {
        "colab": {
          "base_uri": "https://localhost:8080/",
          "height": 931
        },
        "id": "KScIXR1iSHGa",
        "outputId": "0f7ac66b-b42f-491c-9d83-96f51dc0c1d8"
      },
      "execution_count": 65,
      "outputs": [
        {
          "output_type": "execute_result",
          "data": {
            "text/plain": [
              "Row ID           0\n",
              "Order ID         0\n",
              "Order Date       0\n",
              "Ship Date        0\n",
              "ShipMode         0\n",
              "Customer ID      0\n",
              "Customer Name    0\n",
              "Segment          0\n",
              "Country          0\n",
              "City             0\n",
              "State            0\n",
              "Postal Code      0\n",
              "Region           0\n",
              "Product ID       0\n",
              "Category         0\n",
              "Sub-Category     0\n",
              "Product Name     0\n",
              "Sales            0\n",
              "Quantity         0\n",
              "Discount         0\n",
              "Profit           0\n",
              "Year             0\n",
              "Month            0\n",
              "Quarter          0\n",
              "DayOfWeek        0\n",
              "AvgOrderValue    0\n",
              "DeliveryDays     0\n",
              "dtype: int64"
            ],
            "text/html": [
              "<div>\n",
              "<style scoped>\n",
              "    .dataframe tbody tr th:only-of-type {\n",
              "        vertical-align: middle;\n",
              "    }\n",
              "\n",
              "    .dataframe tbody tr th {\n",
              "        vertical-align: top;\n",
              "    }\n",
              "\n",
              "    .dataframe thead th {\n",
              "        text-align: right;\n",
              "    }\n",
              "</style>\n",
              "<table border=\"1\" class=\"dataframe\">\n",
              "  <thead>\n",
              "    <tr style=\"text-align: right;\">\n",
              "      <th></th>\n",
              "      <th>0</th>\n",
              "    </tr>\n",
              "  </thead>\n",
              "  <tbody>\n",
              "    <tr>\n",
              "      <th>Row ID</th>\n",
              "      <td>0</td>\n",
              "    </tr>\n",
              "    <tr>\n",
              "      <th>Order ID</th>\n",
              "      <td>0</td>\n",
              "    </tr>\n",
              "    <tr>\n",
              "      <th>Order Date</th>\n",
              "      <td>0</td>\n",
              "    </tr>\n",
              "    <tr>\n",
              "      <th>Ship Date</th>\n",
              "      <td>0</td>\n",
              "    </tr>\n",
              "    <tr>\n",
              "      <th>ShipMode</th>\n",
              "      <td>0</td>\n",
              "    </tr>\n",
              "    <tr>\n",
              "      <th>Customer ID</th>\n",
              "      <td>0</td>\n",
              "    </tr>\n",
              "    <tr>\n",
              "      <th>Customer Name</th>\n",
              "      <td>0</td>\n",
              "    </tr>\n",
              "    <tr>\n",
              "      <th>Segment</th>\n",
              "      <td>0</td>\n",
              "    </tr>\n",
              "    <tr>\n",
              "      <th>Country</th>\n",
              "      <td>0</td>\n",
              "    </tr>\n",
              "    <tr>\n",
              "      <th>City</th>\n",
              "      <td>0</td>\n",
              "    </tr>\n",
              "    <tr>\n",
              "      <th>State</th>\n",
              "      <td>0</td>\n",
              "    </tr>\n",
              "    <tr>\n",
              "      <th>Postal Code</th>\n",
              "      <td>0</td>\n",
              "    </tr>\n",
              "    <tr>\n",
              "      <th>Region</th>\n",
              "      <td>0</td>\n",
              "    </tr>\n",
              "    <tr>\n",
              "      <th>Product ID</th>\n",
              "      <td>0</td>\n",
              "    </tr>\n",
              "    <tr>\n",
              "      <th>Category</th>\n",
              "      <td>0</td>\n",
              "    </tr>\n",
              "    <tr>\n",
              "      <th>Sub-Category</th>\n",
              "      <td>0</td>\n",
              "    </tr>\n",
              "    <tr>\n",
              "      <th>Product Name</th>\n",
              "      <td>0</td>\n",
              "    </tr>\n",
              "    <tr>\n",
              "      <th>Sales</th>\n",
              "      <td>0</td>\n",
              "    </tr>\n",
              "    <tr>\n",
              "      <th>Quantity</th>\n",
              "      <td>0</td>\n",
              "    </tr>\n",
              "    <tr>\n",
              "      <th>Discount</th>\n",
              "      <td>0</td>\n",
              "    </tr>\n",
              "    <tr>\n",
              "      <th>Profit</th>\n",
              "      <td>0</td>\n",
              "    </tr>\n",
              "    <tr>\n",
              "      <th>Year</th>\n",
              "      <td>0</td>\n",
              "    </tr>\n",
              "    <tr>\n",
              "      <th>Month</th>\n",
              "      <td>0</td>\n",
              "    </tr>\n",
              "    <tr>\n",
              "      <th>Quarter</th>\n",
              "      <td>0</td>\n",
              "    </tr>\n",
              "    <tr>\n",
              "      <th>DayOfWeek</th>\n",
              "      <td>0</td>\n",
              "    </tr>\n",
              "    <tr>\n",
              "      <th>AvgOrderValue</th>\n",
              "      <td>0</td>\n",
              "    </tr>\n",
              "    <tr>\n",
              "      <th>DeliveryDays</th>\n",
              "      <td>0</td>\n",
              "    </tr>\n",
              "  </tbody>\n",
              "</table>\n",
              "</div><br><label><b>dtype:</b> int64</label>"
            ]
          },
          "metadata": {},
          "execution_count": 65
        }
      ]
    },
    {
      "cell_type": "code",
      "source": [
        "def clean_data(df):\n",
        "    \"\"\"\n",
        "    Remove pedidos cancelados, converte datas, adiciona colunas de tempo,\n",
        "    drop duplicates e cria métricas de negócio.\n",
        "    \"\"\"\n",
        "    # Remover pedidos cancelados (Order ID começando com 'C')\n",
        "    df = df[~df['Order ID'].str.startswith('C')]\n",
        "\n",
        "    # Converter colunas de data\n",
        "    df['Order Date'] = pd.to_datetime(df['Order Date'], dayfirst=False)\n",
        "    df['Ship Date']  = pd.to_datetime(df['Ship Date'],  dayfirst=False)\n",
        "\n",
        "    # Extrair atributos temporais\n",
        "    df = df.assign(\n",
        "        Year        = df['Order Date'].dt.year,\n",
        "        Month       = df['Order Date'].dt.month,\n",
        "        Quarter     = df['Order Date'].dt.quarter,\n",
        "        DayOfWeek   = df['Order Date'].dt.dayofweek\n",
        "    )\n",
        "\n",
        "    # Remover duplicatas\n",
        "    df = df.drop_duplicates(subset=['Row ID'], keep='first')\n",
        "\n",
        "    # Criar métricas de negócio\n",
        "    df['AvgOrderValue'] = df['Sales'] / df['Quantity']\n",
        "    df['DeliveryDays']  = (df['Ship Date'] - df['Order Date']).dt.days\n",
        "\n",
        "    # Ajustar nome de coluna para dimensão\n",
        "    df = df.rename(columns={'Ship Mode':'ShipMode'})\n",
        "    return df\n"
      ],
      "metadata": {
        "id": "XBpHli2QSUKd"
      },
      "execution_count": 66,
      "outputs": []
    },
    {
      "cell_type": "code",
      "source": [
        "print(df.shape)\n",
        "print(df.dtypes)\n",
        "print(df[['AvgOrderValue','DeliveryDays']].describe())\n"
      ],
      "metadata": {
        "colab": {
          "base_uri": "https://localhost:8080/"
        },
        "id": "LmO06Kd3SohJ",
        "outputId": "fd46fbc9-6954-4777-e4fc-e5bd02fda5ba"
      },
      "execution_count": 67,
      "outputs": [
        {
          "output_type": "stream",
          "name": "stdout",
          "text": [
            "(1686, 27)\n",
            "Row ID                    int64\n",
            "Order ID                 object\n",
            "Order Date       datetime64[ns]\n",
            "Ship Date        datetime64[ns]\n",
            "ShipMode                 object\n",
            "Customer ID              object\n",
            "Customer Name            object\n",
            "Segment                  object\n",
            "Country                  object\n",
            "City                     object\n",
            "State                    object\n",
            "Postal Code               int64\n",
            "Region                   object\n",
            "Product ID               object\n",
            "Category                 object\n",
            "Sub-Category             object\n",
            "Product Name             object\n",
            "Sales                   float64\n",
            "Quantity                  int64\n",
            "Discount                float64\n",
            "Profit                  float64\n",
            "Year                      int32\n",
            "Month                     int32\n",
            "Quarter                   int32\n",
            "DayOfWeek                 int32\n",
            "AvgOrderValue           float64\n",
            "DeliveryDays              int64\n",
            "dtype: object\n",
            "       AvgOrderValue  DeliveryDays\n",
            "count    1686.000000   1686.000000\n",
            "mean       57.820501      3.953737\n",
            "std       113.619021      1.767560\n",
            "min         0.396000      0.000000\n",
            "25%         5.584000      3.000000\n",
            "50%        17.560000      4.000000\n",
            "75%        63.980000      5.000000\n",
            "max      1999.995000      7.000000\n"
          ]
        }
      ]
    },
    {
      "cell_type": "code",
      "source": [
        "def create_dimensions(df):\n",
        "    \"\"\"\n",
        "    Cria as dimensões DimData, DimProduto, DimCliente e DimShipMode,\n",
        "    atribuindo surrogate keys.\n",
        "    \"\"\"\n",
        "    # DimData\n",
        "    dim_data = (\n",
        "        df[['Order Date','Year','Month','Quarter','DayOfWeek']]\n",
        "        .drop_duplicates()\n",
        "        .reset_index(drop=True)\n",
        "    )\n",
        "    dim_data['DateID'] = dim_data.index + 1\n",
        "\n",
        "    # DimProduto\n",
        "    dim_produto = (\n",
        "        df[['Product ID','Category','Sub-Category','Product Name']]\n",
        "        .drop_duplicates()\n",
        "        .rename(columns={'Product ID':'ProductID','Product Name':'ProductName'})\n",
        "        .reset_index(drop=True)\n",
        "    )\n",
        "    dim_produto['ProductID_Key'] = dim_produto.index + 1\n",
        "\n",
        "    # DimCliente\n",
        "    dim_cliente = (\n",
        "        df[['Customer ID','Segment','Country','State','City','Postal Code','Region']]\n",
        "        .drop_duplicates()\n",
        "        .rename(columns={'Customer ID':'CustomerID','Postal Code':'PostalCode'})\n",
        "        .reset_index(drop=True)\n",
        "    )\n",
        "    dim_cliente['CustomerID_Key'] = dim_cliente.index + 1\n",
        "\n",
        "    # DimShipMode\n",
        "    dim_ship = (\n",
        "        df[['ShipMode']]\n",
        "        .drop_duplicates()\n",
        "        .reset_index(drop=True)\n",
        "    )\n",
        "    dim_ship['ShipModeID'] = dim_ship.index + 1\n",
        "\n",
        "    return dim_data, dim_produto, dim_cliente, dim_ship"
      ],
      "metadata": {
        "id": "S__POseBS81a"
      },
      "execution_count": 68,
      "outputs": []
    },
    {
      "cell_type": "code",
      "source": [
        "# 4. Criar tabela de fatos\n",
        "\n",
        "def create_fact(df, dim_data, dim_produto, dim_cliente, dim_ship):\n",
        "    \"\"\"\n",
        "    Gera a tabela FactVendas unindo chaves surrogate das dimensões\n",
        "    e selecionando as medidas.\n",
        "    \"\"\"\n",
        "    fact_vendas = (\n",
        "        df\n",
        "        .merge(dim_data,    on=['Order Date','Year','Month','Quarter','DayOfWeek'])\n",
        "        .merge(dim_produto, left_on='Product ID', right_on='ProductID')\n",
        "        .merge(dim_cliente, left_on='Customer ID', right_on='CustomerID')\n",
        "        .merge(dim_ship,    on='ShipMode')\n",
        "        [[\n",
        "            'DateID',\n",
        "            'ProductID_Key',\n",
        "            'CustomerID_Key',\n",
        "            'ShipModeID',\n",
        "            'Sales',\n",
        "            'Profit',\n",
        "            'Quantity',\n",
        "            'AvgOrderValue',\n",
        "            'DeliveryDays'\n",
        "        ]]\n",
        "        .rename(columns={\n",
        "            'ProductID_Key':'ProductID',\n",
        "            'CustomerID_Key':'CustomerID'\n",
        "        })\n",
        "    )\n",
        "    return fact_vendas\n"
      ],
      "metadata": {
        "id": "ob2ggwo3T8R1"
      },
      "execution_count": 48,
      "outputs": []
    },
    {
      "cell_type": "code",
      "source": [
        "def export_data(df_clean, dim_data, dim_produto, dim_cliente, dim_ship, fact_vendas):\n",
        "    \"\"\"\n",
        "    Salva todos os DataFrames em arquivos CSV para consumo pelo Power BI.\n",
        "    \"\"\"\n",
        "    df_clean.to_csv(\"superstore_cleaned.csv\", index=False)\n",
        "    dim_data.to_csv(\"dim_data.csv\", index=False)\n",
        "    dim_produto.to_csv(\"dim_produto.csv\", index=False)\n",
        "    dim_cliente.to_csv(\"dim_cliente.csv\", index=False)\n",
        "    dim_ship.to_csv(\"dim_shipmode.csv\", index=False)\n",
        "    fact_vendas.to_csv(\"fact_vendas.csv\", index=False)"
      ],
      "metadata": {
        "id": "rFBBnou1TdAk"
      },
      "execution_count": 69,
      "outputs": []
    },
    {
      "cell_type": "code",
      "source": [
        "# 6. Fluxo principal\n",
        "\n",
        "def main():\n",
        "    # 6.1 Carrega e limpa\n",
        "    df = load_data()\n",
        "    df_clean = clean_data(df)\n",
        "\n",
        "    # 6.2 Cria dimensões e fato\n",
        "    dim_data, dim_produto, dim_cliente, dim_ship = create_dimensions(df_clean)\n",
        "    fact_vendas = create_fact(df_clean, dim_data, dim_produto, dim_cliente, dim_ship)\n",
        "\n",
        "    # 6.3 Exporta CSVs\n",
        "    export_data(df_clean, dim_data, dim_produto, dim_cliente, dim_ship, fact_vendas)\n",
        "\n",
        "    print(\"ETL completo! Arquivos CSV gerados:\")\n",
        "    print(\" - superstore_cleaned.csv\")\n",
        "    print(\" - dim_data.csv\")\n",
        "    print(\" - dim_produto.csv\")\n",
        "    print(\" - dim_cliente.csv\")\n",
        "    print(\" - dim_shipmode.csv\")\n",
        "    print(\" - fact_vendas.csv\")\n",
        "\n",
        "if __name__ == \"__main__\":\n",
        "    main()"
      ],
      "metadata": {
        "colab": {
          "base_uri": "https://localhost:8080/"
        },
        "id": "qmYbpU_93EOn",
        "outputId": "52a8b744-8e6b-40cb-f49b-2964a8ee644b"
      },
      "execution_count": 70,
      "outputs": [
        {
          "output_type": "stream",
          "name": "stdout",
          "text": [
            "ETL completo! Arquivos CSV gerados:\n",
            " - superstore_cleaned.csv\n",
            " - dim_data.csv\n",
            " - dim_produto.csv\n",
            " - dim_cliente.csv\n",
            " - dim_shipmode.csv\n",
            " - fact_vendas.csv\n"
          ]
        },
        {
          "output_type": "stream",
          "name": "stderr",
          "text": [
            "<ipython-input-66-6b5b44666f08>:10: SettingWithCopyWarning: \n",
            "A value is trying to be set on a copy of a slice from a DataFrame.\n",
            "Try using .loc[row_indexer,col_indexer] = value instead\n",
            "\n",
            "See the caveats in the documentation: https://pandas.pydata.org/pandas-docs/stable/user_guide/indexing.html#returning-a-view-versus-a-copy\n",
            "  df['Order Date'] = pd.to_datetime(df['Order Date'], dayfirst=False)\n",
            "<ipython-input-66-6b5b44666f08>:11: SettingWithCopyWarning: \n",
            "A value is trying to be set on a copy of a slice from a DataFrame.\n",
            "Try using .loc[row_indexer,col_indexer] = value instead\n",
            "\n",
            "See the caveats in the documentation: https://pandas.pydata.org/pandas-docs/stable/user_guide/indexing.html#returning-a-view-versus-a-copy\n",
            "  df['Ship Date']  = pd.to_datetime(df['Ship Date'],  dayfirst=False)\n"
          ]
        }
      ]
    }
  ]
}
